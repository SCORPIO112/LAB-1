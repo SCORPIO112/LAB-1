{
 "cells": [
  {
   "cell_type": "markdown",
   "metadata": {},
   "source": [
    "                                                                             PROGRAMMING IN AI\n",
    "                                                                                LAB 4 AND 5"
   ]
  },
  {
   "cell_type": "code",
   "execution_count": 18,
   "metadata": {},
   "outputs": [
    {
     "name": "stdout",
     "output_type": "stream",
     "text": [
      "First fruit: apple\n",
      "Last fruit: grape\n"
     ]
    }
   ],
   "source": [
    "#                                                                           1.Access List Items:\n",
    "fruits = [\"apple\", \"banana\", \"orange\", \"grape\"]\n",
    "print(\"First fruit:\", fruits[0])\n",
    "print(\"Last fruit:\", fruits[3])\n"
   ]
  },
  {
   "cell_type": "code",
   "execution_count": 2,
   "metadata": {},
   "outputs": [
    {
     "name": "stdout",
     "output_type": "stream",
     "text": [
      "Updated colors list: ['red', 'blue', 'yellow', 'purple']\n"
     ]
    }
   ],
   "source": [
    "#                                                                         2.Change List Items:\n",
    "colors = [\"red\", \"green\", \"yellow\", \"purple\"]\n",
    "colors[1] = \"blue\"\n",
    "print(\"Updated colors list:\", colors)\n"
   ]
  },
  {
   "cell_type": "code",
   "execution_count": 3,
   "metadata": {},
   "outputs": [
    {
     "name": "stdout",
     "output_type": "stream",
     "text": [
      "Updated numbers list: [1, 2, 3, 4, 5, 10]\n"
     ]
    }
   ],
   "source": [
    "#                                                                          3.Add List Items:\n",
    "numbers = [1, 2, 3, 4, 5]\n",
    "numbers.append(10)\n",
    "print(\"Updated  list:\", numbers)\n"
   ]
  },
  {
   "cell_type": "code",
   "execution_count": 4,
   "metadata": {},
   "outputs": [
    {
     "name": "stdout",
     "output_type": "stream",
     "text": [
      "Updated animals list: ['lion', 'elephant', 'giraffe']\n"
     ]
    }
   ],
   "source": [
    "#                                                                          4.Remove List Items:\n",
    "animals = [\"lion\", \"elephant\", \"zebra\", \"giraffe\"]\n",
    "del animals[2]\n",
    "print(\"Updated  list:\", animals)\n"
   ]
  },
  {
   "cell_type": "code",
   "execution_count": 16,
   "metadata": {},
   "outputs": [
    {
     "name": "stdout",
     "output_type": "stream",
     "text": [
      "['New York', 'London', 'Tokyo', 'Paris']\n",
      "['New York', 'London', 'Tokyo', 'Paris']\n",
      "['New York', 'London', 'Tokyo', 'Paris']\n",
      "['New York', 'London', 'Tokyo', 'Paris']\n"
     ]
    }
   ],
   "source": [
    "#                                                                          5.Loop Lists:\n",
    "cities = [\"New York\", \"London\", \"Tokyo\", \"Paris\"]\n",
    "for city in cities:\n",
    "    print(cities)\n"
   ]
  },
  {
   "cell_type": "code",
   "execution_count": 6,
   "metadata": {},
   "outputs": [
    {
     "name": "stdout",
     "output_type": "stream",
     "text": [
      "Squares: [1, 4, 9, 16, 25, 36, 49, 64, 81, 100]\n"
     ]
    }
   ],
   "source": [
    "#                                                                          6.List Comprehension:\n",
    "numbers = [1, 2, 3, 4, 5, 6, 7, 8, 9, 10]\n",
    "squares = [num ** 2 for num in numbers]\n",
    "print(\"Squares:\", squares)\n"
   ]
  },
  {
   "cell_type": "code",
   "execution_count": 8,
   "metadata": {},
   "outputs": [
    {
     "name": "stdout",
     "output_type": "stream",
     "text": [
      "Sorted names list: ['Anna', 'Emily', 'John', 'Mike']\n"
     ]
    }
   ],
   "source": [
    "#                                                                         7.Sort Lists:\n",
    "names = [\"RAFAY\", \"ZARYAB\", \"ALI\", \"AFFAN\"]\n",
    "names.sort()\n",
    "print(\"Sorted names list:\", names)\n"
   ]
  },
  {
   "cell_type": "code",
   "execution_count": 9,
   "metadata": {},
   "outputs": [
    {
     "name": "stdout",
     "output_type": "stream",
     "text": [
      "Copied fruits list: ['apple', 'banana', 'orange']\n"
     ]
    }
   ],
   "source": [
    "#                                                                         8.Copy Lists: \n",
    "fruits = [\"apple\", \"banana\", \"orange\"]\n",
    "fruits_copy = fruits.copy()\n",
    "print(\"Copied fruits list:\", fruits_copy)\n"
   ]
  },
  {
   "cell_type": "code",
   "execution_count": 57,
   "metadata": {},
   "outputs": [
    {
     "name": "stdout",
     "output_type": "stream",
     "text": [
      "Combined list: [1, 2, 3, 4, 5, 6]\n",
      "Sum of List  [5, 7, 9]\n"
     ]
    }
   ],
   "source": [
    "#                                                                         9.Join Lists:\n",
    "list1 = [1, 2, 3]\n",
    "list2 = [4, 5, 6]\n",
    "combined_list = list1 + list2\n",
    "sum_list = [x+y for x,y in zip(list1,list2)]\n",
    "print(\"Combined list:\", combined_list)\n",
    "print(\"Sum of List \",sum_list)"
   ]
  },
  {
   "cell_type": "code",
   "execution_count": 23,
   "metadata": {},
   "outputs": [
    {
     "name": "stdout",
     "output_type": "stream",
     "text": [
      "['Banana', 'apple', 'pineapple', 'rafay']\n",
      "['apple', 'pineapple', 'rafay']\n"
     ]
    }
   ],
   "source": [
    "#                                                                        11.Combining Lists and List Comprehension:\n",
    "list = [\"Banana\",\"apple\",\"pineapple\"]\n",
    "list.append(\"rafay\")\n",
    "print(list)\n",
    "list.pop(0)\n",
    "print(list)"
   ]
  },
  {
   "cell_type": "code",
   "execution_count": 49,
   "metadata": {},
   "outputs": [
    {
     "name": "stdout",
     "output_type": "stream",
     "text": [
      "Orignal list:  [1, 2, 3, 4, 5, 5, 6, 7, 8, 9]\n",
      "Reverse list : [9, 8, 7, 6, 5, 5, 4, 3, 2, 1]\n"
     ]
    }
   ],
   "source": [
    "#                                                                        12.Filtering and Sorting:\n",
    "list_1 = [1,2,3,4,5]\n",
    "list_2 = [5,6,7,8,9]\n",
    "combined_list= list_1 + list_2\n",
    "print(\"Orignal list: \", combined_list)\n",
    "combined_list.reverse()\n",
    "print(\"Reverse list :\" ,combined_list)"
   ]
  },
  {
   "cell_type": "code",
   "execution_count": null,
   "metadata": {},
   "outputs": [],
   "source": [
    "\n",
    "numbers = list(range(1, 11))\n",
    "even\n"
   ]
  }
 ],
 "metadata": {
  "kernelspec": {
   "display_name": "Python 3",
   "language": "python",
   "name": "python3"
  },
  "language_info": {
   "codemirror_mode": {
    "name": "ipython",
    "version": 3
   },
   "file_extension": ".py",
   "mimetype": "text/x-python",
   "name": "python",
   "nbconvert_exporter": "python",
   "pygments_lexer": "ipython3",
   "version": "3.11.8"
  }
 },
 "nbformat": 4,
 "nbformat_minor": 2
}
