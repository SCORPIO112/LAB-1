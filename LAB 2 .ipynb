{
 "cells": [
  {
   "cell_type": "markdown",
   "metadata": {},
   "source": [
    "                                                                                  LAB 2\n",
    "                                                                 Programming For Artificial Intelligence"
   ]
  },
  {
   "cell_type": "code",
   "execution_count": 8,
   "metadata": {},
   "outputs": [
    {
     "name": "stdout",
     "output_type": "stream",
     "text": [
      "10\n",
      "-5\n",
      "25\n",
      "10\n",
      "3.14\n",
      "-2.5\n",
      "6.022e+23\n",
      "3.5\n",
      "7.5\n",
      "(2+3j)\n",
      "(4-2j)\n",
      "(4.387912809451864+2.397127693021015j)\n",
      "(1.5-2.7j)\n",
      "(3+4j)\n"
     ]
    }
   ],
   "source": [
    "#                                                                               MAIN TASK 1 \n",
    "#                                                                1.\tPrint at least types of data type\n",
    "#                                                                                 INTEGER\n",
    "\n",
    "# Example 1: Positive integer\n",
    "num1 = 10\n",
    "print(num1)\n",
    "\n",
    "# Example 2: Negative integer\n",
    "num2 = -5\n",
    "print(num2)\n",
    "\n",
    "# Example 3: Large integer (using underscore for readability)\n",
    "large_num = 1_000_000\n",
    "\n",
    "# Example 4: Integer from string\n",
    "str_num = \"25\"\n",
    "int_from_str = int(str_num)\n",
    "print(int_from_str)\n",
    "\n",
    "# Example 5: Binary integer\n",
    "binary_num = 0b1010  \n",
    "print(binary_num)\n",
    "\n",
    "\n",
    "#                                                                                 TASK 2\n",
    "#                                                                                  FLOAT\n",
    "\n",
    "# Example 1: Standard floating-point number\n",
    "float_num1 = 3.14\n",
    "print(float_num1)\n",
    "\n",
    "# Example 2: Negative floating-point number\n",
    "float_num2 = -2.5\n",
    "print(float_num2)\n",
    "\n",
    "# Example 3: Scientific notation\n",
    "sci_notation = 6.022e23  \n",
    "print(sci_notation)\n",
    "\n",
    "# Example 4: Float from integer division\n",
    "result = 7 / 2  \n",
    "print(result)\n",
    "\n",
    "# Example 5: Float from string\n",
    "str_float = \"7.5\"\n",
    "float_from_str = float(str_float)\n",
    "print(float_from_str)\n",
    "\n",
    "#                                                                                  TASK 3\n",
    "#                                                                                  COMPLEX\n",
    "\n",
    "# Example 1: Complex number with real and imaginary parts\n",
    "complex_num1 = 2 + 3j\n",
    "print(complex_num1)\n",
    "\n",
    "# Example 2: Complex number with negative imaginary part\n",
    "complex_num2 = 4 - 2j\n",
    "print(complex_num2)\n",
    "\n",
    "# Example 3: Complex number from polar coordinates\n",
    "import cmath\n",
    "r, theta = 5, 0.5  # Magnitude of 5 and angle of 0.5 radians\n",
    "complex_from_polar = cmath.rect(r, theta)\n",
    "print(complex_from_polar )\n",
    "\n",
    "# Example 4: Complex number from real and imaginary parts\n",
    "real_part = 1.5\n",
    "imaginary_part = -2.7\n",
    "complex_from_parts = complex(real_part, imaginary_part)\n",
    "print(complex_from_parts)\n",
    "\n",
    "# Example 5: Complex number from string\n",
    "str_complex = \"3+4j\"\n",
    "complex_from_str = complex(str_complex)\n",
    "print(complex_from_str)\n",
    "\n",
    "\n",
    "                              "
   ]
  },
  {
   "cell_type": "code",
   "execution_count": 11,
   "metadata": {},
   "outputs": [
    {
     "name": "stdout",
     "output_type": "stream",
     "text": [
      "INTEGER TO STRING OUTPUT :\n",
      "TYPE CONVERSION: 7.5\n",
      "TYPE OF CONVERTED VARIABLE: <class 'float'>\n",
      "FLOAT TO INTEGER OUTPUT :\n",
      "TYPE CONVERSION: 3\n",
      "TYPE OF CONVERTED VARIABLE: <class 'int'>\n",
      "COMPLEX TO INTEGER OUTPUT :\n",
      "TYPE CONVERSION: (3+4j)\n",
      "TYPE OF CONVERTED VARIABLE: 3\n"
     ]
    }
   ],
   "source": [
    "#                                                                                        MAIN TASK 2\n",
    "#                                                              2.\tWrite example of type conversion for each ( minimum 3)\n",
    "#                                                                                     1: Integer to String\n",
    "print(\"INTEGER TO STRING OUTPUT 1 :\")\n",
    "int_float = 7\n",
    "int_num = float(str_float)\n",
    "print(\"TYPE CONVERSION:\", float_num)\n",
    "print(\"TYPE OF CONVERTED VARIABLE:\", type(float_num))\n",
    "\n",
    "print(\"INTEGER TO STRING OUTPUT 2 :\")\n",
    "int_float = 9\n",
    "int_num = float(str_float)\n",
    "print(\"TYPE CONVERSION:\", float_num)\n",
    "print(\"TYPE OF CONVERTED VARIABLE:\", type(float_num))\n",
    "\n",
    "print(\"INTEGER TO STRING OUTPUT 3 :\")\n",
    "int_float = 10\n",
    "int_num = float(str_float)\n",
    "print(\"TYPE CONVERSION:\", float_num)\n",
    "print(\"TYPE OF CONVERTED VARIABLE:\", type(float_num))\n",
    "\n",
    "#                                                                                     2: Float to Integer:\n",
    "print(\"FLOAT TO INTEGER OUTPUT 1 :\")\n",
    "num_float = 3.14\n",
    "int_num = int(num_float)\n",
    "print(\"TYPE CONVERSION:\", int_num)\n",
    "print(\"TYPE OF CONVERTED VARIABLE:\", type(int_num))\n",
    "\n",
    "print(\"FLOAT TO INTEGER OUTPUT 2 :\")\n",
    "num_float = 3.79\n",
    "int_num = int(num_float)\n",
    "print(\"TYPE CONVERSION:\", int_num)\n",
    "print(\"TYPE OF CONVERTED VARIABLE:\", type(int_num))\n",
    "\n",
    "print(\"FLOAT TO INTEGER OUTPUT 3 :\")\n",
    "num_float = 3.63\n",
    "int_num = int(num_float)\n",
    "print(\"TYPE CONVERSION:\", int_num)\n",
    "print(\"TYPE OF CONVERTED VARIABLE:\", type(int_num))\n",
    "\n",
    "#                                                                                     3: Complex to Integer:\n",
    "print(\"COMPLEX TO INTEGER OUTPUT 1 :\")\n",
    "complex_num = 3 + 4j  # Complex number with real part 3 and imaginary part 4\n",
    "real_part = int(complex_num.real)  # Extract the real part and convert to integer\n",
    "print(\"TYPE CONVERSION:\", complex_num)\n",
    "print(\"TYPE OF CONVERTED VARIABLE:\", real_part)\n",
    "\n",
    "print(\"COMPLEX TO INTEGER OUTPUT 2 :\")\n",
    "complex_num = 3 + 6j  # Complex number with real part 3 and imaginary part 4\n",
    "real_part = int(complex_num.real)  # Extract the real part and convert to integer\n",
    "print(\"TYPE CONVERSION:\", complex_num)\n",
    "print(\"TYPE OF CONVERTED VARIABLE:\", real_part)\n",
    "\n",
    "print(\"COMPLEX TO INTEGER OUTPUT 3 :\")\n",
    "complex_num = 6 + 4j  # Complex number with real part 3 and imaginary part 4\n",
    "real_part = int(complex_num.real)  # Extract the real part and convert to integer\n",
    "print(\"TYPE CONVERSION:\", complex_num)\n",
    "print(\"TYPE OF CONVERTED VARIABLE:\", real_part)\n"
   ]
  },
  {
   "cell_type": "code",
   "execution_count": 12,
   "metadata": {},
   "outputs": [
    {
     "name": "stdout",
     "output_type": "stream",
     "text": [
      "\n",
      "Name: ZARYAB\n",
      "Registration Number: B22F1225AIO07\n",
      "Program: DEVIN AI CANCEL THE PROGRAM\n",
      "Semester: Spring 2024\n",
      "\n"
     ]
    }
   ],
   "source": [
    "#                                                                                              MAIN TASK 3\n",
    "#                                                3.\tAssign multiple strings to single variable with your name , registration number, program , semester etc\n",
    "#                                                                            Assign multiple strings to a single variable\n",
    "student_info = \"\"\"\n",
    "Name: ZARYAB\n",
    "Registration Number: B22F1225AIO07\n",
    "Program: DEVIN AI CANCEL THE PROGRAM\n",
    "Semester: Spring 2024\n",
    "\"\"\"\n",
    "\n",
    "# Print the variable containing multiple strings\n",
    "print(student_info)\n"
   ]
  },
  {
   "cell_type": "code",
   "execution_count": 13,
   "metadata": {},
   "outputs": [
    {
     "name": "stdout",
     "output_type": "stream",
     "text": [
      "Country Name: United States\n",
      "Last 3 Characters: tes\n"
     ]
    }
   ],
   "source": [
    "#                                                                                                   MAIN TASK 4\n",
    "#                                                                              Write Your country name and access the last 3 characters\n",
    "\n",
    "country_name = \"United States\"\n",
    "last_three_chars = country_name[-3:]\n",
    "print(\"Country Name:\", country_name)\n",
    "print(\"Last 3 Characters:\", last_three_chars)\n"
   ]
  },
  {
   "cell_type": "code",
   "execution_count": 14,
   "metadata": {},
   "outputs": [
    {
     "name": "stdout",
     "output_type": "stream",
     "text": [
      "Text with spaces: Hello, World!\n",
      "Length (including spaces): 13\n",
      "Text without spaces: Hello,World!\n",
      "Length (excluding spaces): 12\n"
     ]
    }
   ],
   "source": [
    "#                                                                             MAIN TASK 5\n",
    "#                                                       Write code and observe using len() function it count space or not.\n",
    "text = \"Hello, World!\"\n",
    "length_with_spaces = len(text)\n",
    "print(\"Text with spaces:\", text)\n",
    "print(\"Length (including spaces):\", length_with_spaces)\n",
    "\n",
    "text_without_spaces = \"Hello,World!\"\n",
    "length_without_spaces = len(text_without_spaces)\n",
    "print(\"Text without spaces:\", text_without_spaces)\n",
    "print(\"Length (excluding spaces):\", length_without_spaces)\n"
   ]
  },
  {
   "cell_type": "code",
   "execution_count": 16,
   "metadata": {},
   "outputs": [
    {
     "name": "stdout",
     "output_type": "stream",
     "text": [
      "Second character using negative index: h\n",
      "Third character using negative index: a\n"
     ]
    }
   ],
   "source": [
    "#                                                                                 MAIN TASK 6\n",
    "#                                    6.\tWrite code to access the 2nd and 3rd character of your name using negative indexes.\n",
    "name = \"ChatGPT\"\n",
    "second_character = name[-6]\n",
    "print(\"Second character using negative index:\", second_character)\n",
    "third_character = name[-5]\n",
    "print(\"Third character using negative index:\", third_character)\n"
   ]
  },
  {
   "cell_type": "code",
   "execution_count": 17,
   "metadata": {},
   "outputs": [
    {
     "name": "stdout",
     "output_type": "stream",
     "text": [
      "Formatted with index numbers: First Second Third Fourth\n"
     ]
    }
   ],
   "source": [
    "#                                                                                  MAIN TASK 7\n",
    "#                           7.\tWrite python code in which you pass index number to format() function and arguments must be 4 and same code without indexes.\n",
    "# Pass index numbers to format() function\n",
    "formatted_with_index = \"{0} {1} {2} {3}\".format(\"First\", \"Second\", \"Third\", \"Fourth\")\n",
    "print(\"Formatted with index numbers:\", formatted_with_index)\n"
   ]
  },
  {
   "cell_type": "code",
   "execution_count": 18,
   "metadata": {},
   "outputs": [
    {
     "name": "stdout",
     "output_type": "stream",
     "text": [
      "RAFAY's age is: 17\n"
     ]
    }
   ],
   "source": [
    "#                                                                                   MAIN TASK 8\n",
    "#                                                 8.\tTake input from user and  than display it like “John age is: age”\n",
    "# Take input from the user\n",
    "name = input(\"Enter your name: \")\n",
    "age = input(\"Enter your age: \")\n",
    "\n",
    "# Display the input in the desired format\n",
    "print(\"{}'s age is: {}\".format(name, age))\n"
   ]
  }
 ],
 "metadata": {
  "kernelspec": {
   "display_name": "Python 3",
   "language": "python",
   "name": "python3"
  },
  "language_info": {
   "codemirror_mode": {
    "name": "ipython",
    "version": 3
   },
   "file_extension": ".py",
   "mimetype": "text/x-python",
   "name": "python",
   "nbconvert_exporter": "python",
   "pygments_lexer": "ipython3",
   "version": "3.11.8"
  }
 },
 "nbformat": 4,
 "nbformat_minor": 2
}
