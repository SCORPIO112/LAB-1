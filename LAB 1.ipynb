{
 "cells": [
  {
   "cell_type": "markdown",
   "metadata": {},
   "source": [
    "                                                                                            Lab 1:\n",
    "                                                                             Introduction to Variables in Python\n"
   ]
  },
  {
   "cell_type": "code",
   "execution_count": 1,
   "metadata": {},
   "outputs": [
    {
     "name": "stdout",
     "output_type": "stream",
     "text": [
      "False\n"
     ]
    }
   ],
   "source": [
    "#1.Differentiate  between assignment operator and equality operator\n",
    "# the assignment operator (=) is used to assign a value to a variable, while the equality operator (==) is used to check if two values are equal.\n",
    "x = 10\n",
    "a = 5\n",
    "b = 10\n",
    "result = a == b\n",
    "print(result)  # Outputs: False\n",
    "\n"
   ]
  },
  {
   "cell_type": "markdown",
   "metadata": {},
   "source": []
  },
  {
   "cell_type": "code",
   "execution_count": 2,
   "metadata": {},
   "outputs": [
    {
     "name": "stdout",
     "output_type": "stream",
     "text": [
      "Integer variables:\n",
      "10\n",
      "-5\n",
      "0\n",
      "\n",
      "Floating-point variables:\n",
      "3.14159\n",
      "10.5\n",
      "\n",
      "String variables:\n",
      "John Doe\n",
      "Hello, World!\n",
      "\n",
      "Boolean variables:\n",
      "True\n",
      "False\n"
     ]
    }
   ],
   "source": [
    "#2.\tExplore all kinds /data types of variables. And  write code for each datatype.\n",
    "# Integer variable\n",
    "num1 = 10\n",
    "num2 = -5\n",
    "num3 = 0\n",
    "\n",
    "# Floating-point variable\n",
    "pi = 3.14159\n",
    "value = 10.5\n",
    "\n",
    "# String variable\n",
    "name = \"John Doe\"\n",
    "message = 'Hello, World!'\n",
    "\n",
    "# Boolean variable\n",
    "is_valid = True\n",
    "has_permission = False\n",
    "\n",
    "# Printing the variables\n",
    "print(\"Integer variables:\")\n",
    "print(num1)  # Outputs: 10\n",
    "print(num2)  # Outputs: -5\n",
    "print(num3)  # Outputs: 0\n",
    "\n",
    "print(\"\\nFloating-point variables:\")\n",
    "print(pi)    # Outputs: 3.14159\n",
    "print(value) # Outputs: 10.5\n",
    "\n",
    "print(\"\\nString variables:\")\n",
    "print(name)    # Outputs: John Doe\n",
    "print(message) # Outputs: Hello, World!\n",
    "\n",
    "print(\"\\nBoolean variables:\")\n",
    "print(is_valid)       # Outputs: True\n",
    "print(has_permission)  # Outputs: False\n"
   ]
  },
  {
   "cell_type": "code",
   "execution_count": 3,
   "metadata": {},
   "outputs": [
    {
     "name": "stdout",
     "output_type": "stream",
     "text": [
      "60\n",
      "50\n",
      "John\n",
      "True\n"
     ]
    }
   ],
   "source": [
    "#3.\tExplain the rules for variables name and use different variables name including special characters , numbers etc\n",
    "# Valid variable names\n",
    "my_variable = 10\n",
    "value_1 = 20\n",
    "x2 = 30\n",
    "total_sum = my_variable + value_1 + x2\n",
    "\n",
    "# Invalid variable names\n",
    "# 1value = 5  # This will raise a SyntaxError because it starts with a digit\n",
    "\n",
    "# Using special characters and numbers\n",
    "num_of_students = 50\n",
    "student_name = \"John\"\n",
    "is_valid_name = True\n",
    "\n",
    "# Print the values of variables\n",
    "print(total_sum)       # Outputs: 60\n",
    "print(num_of_students) # Outputs: 50\n",
    "print(student_name)    # Outputs: John\n",
    "print(is_valid_name)   # Outputs: True\n",
    "\n",
    "#In this code, we use valid variable names such as my_variable, value_1, and x2, and also include special characters like underscores (_) in variable names (num_of_students, student_name, is_valid_name)\n"
   ]
  },
  {
   "cell_type": "code",
   "execution_count": 4,
   "metadata": {},
   "outputs": [
    {
     "name": "stdout",
     "output_type": "stream",
     "text": [
      "10 20 30\n",
      "apple banana cherry\n",
      "apple\n",
      "banana\n",
      "cherry\n",
      "10 10 10\n",
      "hello hello hello\n"
     ]
    }
   ],
   "source": [
    "# 4.\tDeclare and initialize multiple variables in a single line . Single variable with multiple values , multiple variables with single values. Each having at least two examples\n",
    "# Declare and initialize multiple variables in a single line using tuple unpacking:\n",
    "\n",
    "# Tuple unpacking for multiple variables with single values\n",
    "x, y, z = 10, 20, 30\n",
    "a, b, c = \"apple\", \"banana\", \"cherry\"\n",
    "\n",
    "print(x, y, z)  # Outputs: 10 20 30\n",
    "print(a, b, c)  # Outputs: apple banana cherry\n",
    "\n",
    "#Declare and initialize multiple variables in a single line using list unpacking:\n",
    "# List unpacking for single variable with multiple values\n",
    "fruits = [\"apple\", \"banana\", \"cherry\"]\n",
    "x, y, z = fruits\n",
    "\n",
    "print(x)  # Outputs: apple\n",
    "print(y)  # Outputs: banana\n",
    "print(z)  # Outputs: cherry\n",
    "\n",
    "# Multiple assignments for multiple variables with single values\n",
    "x = y = z = 10\n",
    "a = b = c = \"hello\"\n",
    "\n",
    "print(x, y, z)  # Outputs: 10 10 10\n",
    "print(a, b, c)  # Outputs: hello hello hello\n"
   ]
  },
  {
   "cell_type": "code",
   "execution_count": 6,
   "metadata": {},
   "outputs": [
    {
     "name": "stdout",
     "output_type": "stream",
     "text": [
      "Integer arithmetic operations:\n",
      "Addition: 15\n",
      "Subtraction: 5\n",
      "Multiplication: 50\n",
      "Division: 2.0\n",
      "\n",
      "Floating-point arithmetic operations:\n",
      "Addition: 14.0\n",
      "Subtraction: 7.0\n",
      "Multiplication: 36.75\n",
      "Division: 3.0\n"
     ]
    }
   ],
   "source": [
    "# Perform arithmetic operations on integers and floating-point numbers\n",
    "                            # Adding, Subtracting, Multiplication and dividing two integer variables\n",
    "                            # Adding, Subtracting, Multiplication and dividing  floating-point variables\n",
    "                            \n",
    "# Performing arithmetic operations on integers:\n",
    "# Integer arithmetic operations\n",
    "num1 = 10\n",
    "num2 = 5\n",
    "\n",
    "# Adding two integers\n",
    "addition_result = num1 + num2  # 10 + 5 = 15\n",
    "\n",
    "# Subtracting two integers\n",
    "subtraction_result = num1 - num2  # 10 - 5 = 5\n",
    "\n",
    "# Multiplying two integers\n",
    "multiplication_result = num1 * num2  # 10 * 5 = 50\n",
    "\n",
    "# Dividing two integers (using floating-point division)\n",
    "division_result = num1 / num2  # 10 / 5 = 2.0 (float)\n",
    "\n",
    "# Print the results\n",
    "print(\"Integer arithmetic operations:\")\n",
    "print(\"Addition:\", addition_result)\n",
    "print(\"Subtraction:\", subtraction_result)\n",
    "print(\"Multiplication:\", multiplication_result)\n",
    "print(\"Division:\", division_result)\n",
    "\n",
    "# Performing arithmetic operations on floating-point numbers:\n",
    "# Floating-point arithmetic operations\n",
    "float1 = 10.5\n",
    "float2 = 3.5\n",
    "\n",
    "# Adding two floating-point numbers\n",
    "add_float_result = float1 + float2  # 10.5 + 3.5 = 14.0\n",
    "\n",
    "# Subtracting two floating-point numbers\n",
    "sub_float_result = float1 - float2  # 10.5 - 3.5 = 7.0\n",
    "\n",
    "# Multiplying two floating-point numbers\n",
    "mul_float_result = float1 * float2  # 10.5 * 3.5 = 36.75\n",
    "\n",
    "# Dividing two floating-point numbers\n",
    "div_float_result = float1 / float2  # 10.5 / 3.5 = 3.0\n",
    "\n",
    "# Print the results\n",
    "print(\"\\nFloating-point arithmetic operations:\")\n",
    "print(\"Addition:\", add_float_result)\n",
    "print(\"Subtraction:\", sub_float_result)\n",
    "print(\"Multiplication:\", mul_float_result)\n",
    "print(\"Division:\", div_float_result)\n",
    "\n",
    "# arithmetic operations like addition, subtraction, multiplication, and division are performed on both integer and floating-point variables, showcasing the results for each operation.\n"
   ]
  },
  {
   "cell_type": "code",
   "execution_count": 5,
   "metadata": {},
   "outputs": [
    {
     "name": "stdout",
     "output_type": "stream",
     "text": [
      "This is a string created with single quotes.\n",
      "This is a string created with double quotes.\n"
     ]
    }
   ],
   "source": [
    "# 6.A string literal is a sequence of characters enclosed in quotes. In Python, we can use either single quotes (‘…’) or double quotes (“…”) to create a string. \n",
    "\n",
    "# Using single quotes:\n",
    "# Creating a string using single quotes\n",
    "single_quoted_string = 'This is a string created with single quotes.'\n",
    "\n",
    "# Printing the string\n",
    "print(single_quoted_string)  # Outputs: This is a string created with single quotes.\n",
    "\n",
    "# Using double quotes:\n",
    "# Creating a string using double quotes\n",
    "double_quoted_string = \"This is a string created with double quotes.\"\n",
    "\n",
    "# Printing the string\n",
    "print(double_quoted_string)  # Outputs: This is a string created with double quotes.\n",
    "\n"
   ]
  },
  {
   "cell_type": "code",
   "execution_count": null,
   "metadata": {},
   "outputs": [],
   "source": [
    "# 7.The print() function is a built-in function in Python that allows you to output variables and other data to the console.\n",
    "# Example of using the print() function to output a variable:\n",
    "# Outputting a variable using print()\n",
    "name = \"John Doe\"\n",
    "print(\"Hello, \" + name)  # Outputs: Hello, John Doe\n",
    "\n",
    "# Example of outputting multiple variables with print():\n",
    "# Outputting multiple variables using print()\n",
    "num1 = 10\n",
    "num2 = 20\n",
    "print(\"The numbers are:\", num1, \"and\", num2)  # Outputs: The numbers are: 10 and 20\n",
    "\n",
    "# Example of using f-strings to format output:\n",
    "# Using f-strings to format output\n",
    "age = 30\n",
    "name = \"Jane Doe\"\n",
    "print(f\"{name} is {age} years old.\")  # Outputs: Jane Doe is 30 years old.\n",
    "\n",
    "# Example of using f-strings to manipulate variables in output:\n",
    "# Using f-strings to manipulate variables in output\n",
    "num1 = 10\n",
    "num2 = 20\n",
    "result = num1 + num2\n",
    "print(f\"The sum of {num1} and {num2} is {result}.\")  # Outputs: The sum of 10 and 20 is 30.\n"
   ]
  }
 ],
 "metadata": {
  "kernelspec": {
   "display_name": "Python 3",
   "language": "python",
   "name": "python3"
  },
  "language_info": {
   "codemirror_mode": {
    "name": "ipython",
    "version": 3
   },
   "file_extension": ".py",
   "mimetype": "text/x-python",
   "name": "python",
   "nbconvert_exporter": "python",
   "pygments_lexer": "ipython3",
   "version": "3.11.8"
  }
 },
 "nbformat": 4,
 "nbformat_minor": 2
}
